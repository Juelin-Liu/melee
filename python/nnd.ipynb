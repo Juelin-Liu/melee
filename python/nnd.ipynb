{
 "cells": [
  {
   "cell_type": "code",
   "execution_count": 1,
   "id": "a73b2a3f50da63c",
   "metadata": {
    "jupyter": {
     "is_executing": true
    }
   },
   "outputs": [],
   "source": [
    "from pynndescent import NNDescent\n",
    "import argparse\n",
    "import time\n",
    "from util import *\n",
    "import sys\n",
    "import faiss\n"
   ]
  },
  {
   "cell_type": "code",
   "execution_count": 2,
   "id": "c0d18b27",
   "metadata": {},
   "outputs": [
    {
     "name": "stdout",
     "output_type": "stream",
     "text": [
      "load feat in 2.588117837905884 secs\n"
     ]
    }
   ],
   "source": [
    "space = 'l2'\n",
    "feat_path = \"/data/juelin/project/melee/data/datasets/bigann/base.1B.u8bin\"\n",
    "query_path = '/data/juelin/project/melee/data/datasets/bigann/query.10k.u8bin'\n",
    "truth_path = '/data/juelin/project/melee/data/datasets/gt/GT_10M/bigann-10M'\n",
    "index_path = '/data/juelin/project/melee/data/nnd/bigann/bigann_10M_M16.npy'\n",
    "max_elements= 10000000\n",
    "\n",
    "t = time.time()\n",
    "\n",
    "feat = load_data(feat_path, max_elements, as_float=True)\n",
    "query = load_data(query_path, sys.maxsize)\n",
    "labels, distance = load_ground_truth(truth_path)\n",
    "\n",
    "nnd_graph = np.load(index_path)\n",
    "\n",
    "print(f\"load feat in {time.time() - t} secs\")\n",
    "\n",
    "num_elements = feat.shape[0]\n",
    "dim = feat.shape[1]\n",
    "ids = np.arange(num_elements)\n",
    "num_query = query.shape[0]\n",
    "\n",
    "\n",
    "# index = NNDescent(data=feat, metric=metric, init_graph=nnd_graph, n_neighbors=nnd_graph.shape[1], low_memory=False, n_iters=0)\n",
    "# index.prepare()\n",
    "# print(\"START BENCHMARK\")\n",
    "# for k in [1, 10, 100]:\n",
    "#     for epsilon in [0, 0.05, 0.1, 0.15, 0.2, 0.25, 0.3, 0.35]:\n",
    "#         t = time.time()\n",
    "#         plabels, pdistance = index.query(query_data = query, k = k, epsilon=0.1)\n",
    "#         total_matched = 0\n",
    "#         for i in range(num_query):\n",
    "#             gt_label = labels[i][:k]\n",
    "#             p_label = plabels[i]\n",
    "#             for pred in p_label:\n",
    "#                 if pred in gt_label:\n",
    "#                     total_matched += 1\n",
    "#         recall = total_matched / (num_query * k)\n",
    "#         print(f\"{k=} {epsilon=} {recall=}\", flush=True)\n",
    "# print(\"END BENCHMARK\")"
   ]
  },
  {
   "cell_type": "code",
   "execution_count": 9,
   "id": "25df09b3-476c-4f5a-ae80-befe7dd8b500",
   "metadata": {},
   "outputs": [
    {
     "data": {
      "text/plain": [
       "(10000000, 16)"
      ]
     },
     "execution_count": 9,
     "metadata": {},
     "output_type": "execute_result"
    }
   ],
   "source": [
    "nnd_graph = nnd_graph.reshape(-1, 16)\n",
    "nnd_graph.shape"
   ]
  },
  {
   "cell_type": "code",
   "execution_count": 12,
   "id": "b3c72abc-2cb2-45a8-a9d2-0f12582752bc",
   "metadata": {},
   "outputs": [
    {
     "data": {
      "text/plain": [
       "'euclidean'"
      ]
     },
     "execution_count": 12,
     "metadata": {},
     "output_type": "execute_result"
    }
   ],
   "source": [
    "metric = None\n",
    "if space == \"l2\":\n",
    "    metric = \"euclidean\"\n",
    "elif space == \"cosine\" or \"ip\":\n",
    "    metric = \"cosine\"\n",
    "\n",
    "metric"
   ]
  },
  {
   "cell_type": "code",
   "execution_count": null,
   "id": "db3cc885-dd8b-490b-b2f9-65b22e57525a",
   "metadata": {},
   "outputs": [
    {
     "name": "stdout",
     "output_type": "stream",
     "text": [
      "START BENCHMARK\n",
      "k=1 epsilon=0 recall=0.0\n",
      "k=1 epsilon=0.05 recall=0.1058\n",
      "k=1 epsilon=0.1 recall=0.1866\n",
      "k=1 epsilon=0.15 recall=0.2813\n",
      "k=1 epsilon=0.2 recall=0.3992\n",
      "k=1 epsilon=0.25 recall=0.5286\n",
      "k=1 epsilon=0.3 recall=0.6602\n",
      "k=1 epsilon=0.35 recall=0.7771\n",
      "k=10 epsilon=0 recall=0.428\n",
      "k=10 epsilon=0.05 recall=0.55938\n",
      "k=10 epsilon=0.1 recall=0.66579\n",
      "k=10 epsilon=0.15 recall=0.76413\n",
      "k=10 epsilon=0.2 recall=0.84913\n",
      "k=10 epsilon=0.25 recall=0.91372\n",
      "k=10 epsilon=0.3 recall=0.95587\n",
      "k=10 epsilon=0.35 recall=0.97945\n",
      "k=100 epsilon=0 recall=0.747311\n",
      "k=100 epsilon=0.05 recall=0.833647\n",
      "k=100 epsilon=0.1 recall=0.90161\n",
      "k=100 epsilon=0.15 recall=0.948068\n",
      "k=100 epsilon=0.2 recall=0.975272\n"
     ]
    }
   ],
   "source": [
    "index = NNDescent(data=feat, metric=metric, init_graph=nnd_graph, n_neighbors=nnd_graph.shape[1], low_memory=False, n_iters=0)\n",
    "t = time.time()\n",
    "print(\"START BENCHMARK\")\n",
    "for k in [1, 10, 100]:\n",
    "    for epsilon in [0, 0.05, 0.1, 0.15, 0.2, 0.25, 0.3, 0.35]:\n",
    "        t = time.time()\n",
    "        plabels, pdistance = index.query(query_data = query, k = k, epsilon=epsilon)\n",
    "        total_matched = 0\n",
    "        for i in range(num_query):\n",
    "            gt_label = labels[i][:k]\n",
    "            p_label = plabels[i]\n",
    "            for pred in p_label:\n",
    "                if pred in gt_label:\n",
    "                    total_matched += 1\n",
    "        recall = total_matched / (num_query * k)\n",
    "        print(f\"{k=} {epsilon=} {recall=}\", flush=True)\n",
    "print(\"END BENCHMARK\")"
   ]
  },
  {
   "cell_type": "code",
   "execution_count": 6,
   "id": "9e770ecf-c51a-498a-ad04-2119c7d0e149",
   "metadata": {},
   "outputs": [
    {
     "name": "stdout",
     "output_type": "stream",
     "text": [
      "train feat in 338.6449990272522 secs\n"
     ]
    }
   ],
   "source": [
    "t = time.time()\n",
    "metric = None\n",
    "if space == \"l2\":\n",
    "    metric = faiss.METRIC_L2\n",
    "elif space == \"cosine\" or \"ip\":\n",
    "    metric = faiss.METRIC_Lp\n",
    "\n",
    "index = faiss.IndexNNDescentFlat(feat.shape[1], 32, metric)\n",
    "index.add(feat)\n",
    "print(f\"train feat in {time.time() - t} secs\")\n"
   ]
  },
  {
   "cell_type": "code",
   "execution_count": 12,
   "id": "2cc1448b",
   "metadata": {},
   "outputs": [],
   "source": [
    "D, I = index.search(x=query, k=1)"
   ]
  },
  {
   "cell_type": "code",
   "execution_count": 13,
   "id": "e57b4695-5a40-4833-9a27-b76be5331bb1",
   "metadata": {},
   "outputs": [
    {
     "data": {
      "text/plain": [
       "array([[253282.],\n",
       "       [ 31796.],\n",
       "       [ 46358.],\n",
       "       ...,\n",
       "       [ 91179.],\n",
       "       [167297.],\n",
       "       [ 51105.]], dtype=float32)"
      ]
     },
     "execution_count": 13,
     "metadata": {},
     "output_type": "execute_result"
    }
   ],
   "source": [
    "D"
   ]
  },
  {
   "cell_type": "code",
   "execution_count": 15,
   "id": "21b3618b-223a-4b90-b77d-1b17b5d5b899",
   "metadata": {},
   "outputs": [
    {
     "data": {
      "text/plain": [
       "(10000, 1)"
      ]
     },
     "execution_count": 15,
     "metadata": {},
     "output_type": "execute_result"
    }
   ],
   "source": [
    "print(\"START BENCHMARK\")\n",
    "for k in [1, 10, 100]:\n",
    "    for L in [1, 2, 4, 8, 16, 32, 64, 128, 256]:\n",
    "        t = time.time()\n",
    "        pdistance, plabels = index.query(query_data = query, k = k)\n",
    "        total_matched = 0\n",
    "        for i in range(num_query):\n",
    "            gt_label = labels[i][:k]\n",
    "            p_label = plabels[i]\n",
    "            for pred in p_label:\n",
    "                if pred in gt_label:\n",
    "                    total_matched += 1\n",
    "        recall = total_matched / (num_query * k)\n",
    "        print(f\"{k=} {epsilon=} {recall=}\", flush=True)\n",
    "print(\"END BENCHMARK\")"
   ]
  },
  {
   "cell_type": "code",
   "execution_count": null,
   "id": "27cb8ce6-1937-4b6f-861d-596af2daa820",
   "metadata": {},
   "outputs": [],
   "source": []
  }
 ],
 "metadata": {
  "kernelspec": {
   "display_name": "Python 3 (ipykernel)",
   "language": "python",
   "name": "python3"
  },
  "language_info": {
   "codemirror_mode": {
    "name": "ipython",
    "version": 3
   },
   "file_extension": ".py",
   "mimetype": "text/x-python",
   "name": "python",
   "nbconvert_exporter": "python",
   "pygments_lexer": "ipython3",
   "version": "3.10.13"
  }
 },
 "nbformat": 4,
 "nbformat_minor": 5
}
