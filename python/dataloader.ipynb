{
 "cells": [
  {
   "cell_type": "code",
   "execution_count": 2,
   "id": "66102eb0-0cfb-48e5-8cf8-2e42122e6e08",
   "metadata": {},
   "outputs": [],
   "source": [
    "import numpy as np"
   ]
  },
  {
   "cell_type": "code",
   "execution_count": 26,
   "id": "6beeddd5-3829-4929-8074-b4f961cd9d55",
   "metadata": {},
   "outputs": [
    {
     "name": "stdout",
     "output_type": "stream",
     "text": [
      "10000\n"
     ]
    }
   ],
   "source": [
    "import numpy as np\n",
    "\n",
    "def load_binary_file(file_path):\n",
    "    # Read the binary file\n",
    "    with open(file_path, 'rb') as f:\n",
    "        # Read the number of rows from the first 4 bytes\n",
    "        num_rows = np.frombuffer(f.read(4), dtype=np.int32)[0]\n",
    "        num_cols = np.frombuffer(f.read(4), dtype=np.int32)[0]\n",
    "        print(num_rows)\n",
    "        num_bytes = num_rows * num_cols * 4\n",
    "        labels = np.frombuffer(f.read(num_bytes), dtype=np.int32)\n",
    "        distances = np.frombuffer(f.read(num_bytes), dtype=np.single)\n",
    "        \n",
    "        # Reshape the data into rows\n",
    "        labels = labels.reshape((num_rows, -1))\n",
    "        distances = distances.reshape((num_rows, -1))\n",
    "        \n",
    "        return labels, distances\n",
    "\n",
    "# Example usage\n",
    "file_path = \"/mnt/nfs/home/juelinliu/work1/melee/data/datasets/gt/GT_10M/bigann-10M\"\n",
    "labels, distances = load_binary_file(file_path)"
   ]
  },
  {
   "cell_type": "code",
   "execution_count": 27,
   "id": "9cf31045-7381-412c-acab-e751bd36bb32",
   "metadata": {},
   "outputs": [
    {
     "data": {
      "text/plain": [
       "array([[ 504814,  344333, 8430679, ..., 1784306, 8124912, 7723442],\n",
       "       [4369541, 1411365, 5312567, ..., 6242857, 4732429, 3561326],\n",
       "       [3109721, 6194634, 7357291, ..., 6520334, 9847069, 7164364],\n",
       "       ...,\n",
       "       [9286338, 8796368, 2014761, ...,  682376, 2583338, 9407763],\n",
       "       [8126413,  266450,  225643, ..., 8466169, 3337106, 2533069],\n",
       "       [7681219, 8106504, 4199934, ..., 5899064, 9842369,  492116]],\n",
       "      dtype=int32)"
      ]
     },
     "execution_count": 27,
     "metadata": {},
     "output_type": "execute_result"
    }
   ],
   "source": [
    "labels"
   ]
  },
  {
   "cell_type": "code",
   "execution_count": 30,
   "id": "2f0cfc62-1050-40d6-9bde-cdc67deb45f6",
   "metadata": {},
   "outputs": [
    {
     "data": {
      "text/plain": [
       "array([3540., 3790., 3903., 3909., 4182., 4259., 4555., 4681., 4888.,\n",
       "       4998., 5037., 5113., 5211., 5336., 5541., 5585., 5679., 5735.,\n",
       "       6009., 6057., 6058., 6060., 6069., 6147., 6211., 6242., 6263.,\n",
       "       6281., 6443., 6450., 6492., 6552., 6554., 6560., 6578., 6610.,\n",
       "       6613., 6649., 6742., 6763., 6925., 6968., 6968., 7008., 7013.,\n",
       "       7033., 7055., 7161., 7183., 7223., 7251., 7329., 7344., 7386.,\n",
       "       7438., 7486., 7519., 7600., 7714., 7723., 7737., 7757., 7763.,\n",
       "       7795., 7853., 7861., 7862., 7871., 7880., 7905., 7954., 7961.,\n",
       "       7982., 7992., 8061., 8069., 8082., 8107., 8128., 8150., 8153.,\n",
       "       8155., 8157., 8212., 8229., 8244., 8256., 8302., 8326., 8390.,\n",
       "       8402., 8406., 8410., 8419., 8436., 8445., 8456., 8460., 8460.,\n",
       "       8496.], dtype=float32)"
      ]
     },
     "execution_count": 30,
     "metadata": {},
     "output_type": "execute_result"
    }
   ],
   "source": [
    "distances[3]"
   ]
  },
  {
   "cell_type": "code",
   "execution_count": null,
   "id": "b0fb6efc-cf9e-43fd-b7de-aa78c2740d21",
   "metadata": {},
   "outputs": [],
   "source": []
  }
 ],
 "metadata": {
  "kernelspec": {
   "display_name": "Python 3 (ipykernel)",
   "language": "python",
   "name": "python3"
  },
  "language_info": {
   "codemirror_mode": {
    "name": "ipython",
    "version": 3
   },
   "file_extension": ".py",
   "mimetype": "text/x-python",
   "name": "python",
   "nbconvert_exporter": "python",
   "pygments_lexer": "ipython3",
   "version": "3.10.13"
  }
 },
 "nbformat": 4,
 "nbformat_minor": 5
}
