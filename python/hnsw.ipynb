{
 "cells": [
  {
   "cell_type": "code",
   "execution_count": 3,
   "id": "68b7e10d-433f-4c83-8e46-d4b1a385d24b",
   "metadata": {},
   "outputs": [
    {
     "name": "stdout",
     "output_type": "stream",
     "text": [
      "loading num_rows=10000 from /data/juelin/project/melee/data/datasets/bigann/query.10k.u8bin\n",
      "loading num_rows=100000000 from /data/juelin/project/melee/data/datasets/bigann/base.1B.u8bin\n",
      "loading num_rows=100000000 from /data/juelin/project/melee/data/datasets/bigann/learn.100M.u8bin\n"
     ]
    }
   ],
   "source": [
    "import numpy as np\n",
    "\n",
    "def load_ground_truth(file_path):\n",
    "    # Read the binary file\n",
    "    with open(file_path, 'rb') as f:\n",
    "        # Read the number of rows from the first 4 bytes\n",
    "        num_rows = np.frombuffer(f.read(4), dtype=np.int32)[0]\n",
    "        num_cols = np.frombuffer(f.read(4), dtype=np.int32)[0]\n",
    "        num_bytes = num_rows * num_cols * 4\n",
    "        labels = np.frombuffer(f.read(num_bytes), dtype=np.int32)\n",
    "        distances = np.frombuffer(f.read(num_bytes), dtype=np.single)\n",
    "        \n",
    "        # Reshape the data into rows\n",
    "        labels = labels.reshape((num_rows, -1))\n",
    "        distances = distances.reshape((num_rows, -1))\n",
    "        \n",
    "        return labels, distances\n",
    "\n",
    "def load_data(file_path: str, max_elements: int):\n",
    "    # Read the binary file\n",
    "    with open(file_path, 'rb') as f:\n",
    "        # Read the number of rows from the first 4 bytes\n",
    "        num_rows = np.frombuffer(f.read(4), dtype=np.int32)[0]\n",
    "        num_cols = np.frombuffer(f.read(4), dtype=np.int32)[0]\n",
    "        num_rows = int(min(max_elements, num_rows))\n",
    "        print(f\"loading {num_rows=} from {file_path}\")\n",
    "\n",
    "        if file_path.endswith(\"fbin\"):\n",
    "            num_bytes = num_rows * num_cols * 4\n",
    "            queries = np.frombuffer(f.read(num_bytes), dtype=np.single)\n",
    "            queries = queries.reshape((num_rows, num_cols))\n",
    "            return queries\n",
    "        elif file_path.endswith(\"u8bin\"):\n",
    "            num_bytes = num_rows * num_cols\n",
    "            queries = np.frombuffer(f.read(num_bytes), dtype=np.uint8)\n",
    "            queries = queries.reshape((num_rows, num_cols))\n",
    "            return queries\n",
    "            \n",
    "data_dir= \"/data/juelin/project/melee/data/datasets\"\n",
    "data_size=1e8\n",
    "gt_path = f\"{data_dir}/gt/GT_10M/bigann-10M\"\n",
    "feat_path = f\"{data_dir}/bigann/base.1B.u8bin\"\n",
    "sample_path = f\"{data_dir}/bigann/learn.100M.u8bin\"\n",
    "query_path = f\"{data_dir}/bigann/query.10k.u8bin\"\n",
    "# index_path = f\"{data_dir}/../graphs/deep_10M_M16_ef500.index\"\n",
    "query = load_data(query_path, data_size)\n",
    "feat = load_data(feat_path, data_size)\n",
    "sample = load_data(sample_path, data_size)\n",
    "label, distance = load_ground_truth(gt_path)"
   ]
  },
  {
   "cell_type": "code",
   "execution_count": 4,
   "id": "f5df7ad3-1fcc-42ea-9489-e958ea47252b",
   "metadata": {},
   "outputs": [
    {
     "data": {
      "text/plain": [
       "array([[ 0,  0,  0, ..., 14, 10,  6],\n",
       "       [65, 35,  8, ...,  0,  0,  0],\n",
       "       [ 0,  0,  0, ...,  1,  0,  0],\n",
       "       ...,\n",
       "       [20, 96, 68, ..., 14, 15,  3],\n",
       "       [35,  2,  0, ...,  2,  8,  5],\n",
       "       [78, 59,  7, ..., 39,  0,  0]], dtype=uint8)"
      ]
     },
     "execution_count": 4,
     "metadata": {},
     "output_type": "execute_result"
    }
   ],
   "source": [
    "feat"
   ]
  },
  {
   "cell_type": "code",
   "execution_count": 6,
   "id": "c22c416e-822e-40f8-8353-61c5e52094bb",
   "metadata": {},
   "outputs": [
    {
     "data": {
      "text/plain": [
       "array([[ 0,  0,  0, ...,  0,  0,  0],\n",
       "       [ 2,  0,  0, ..., 14, 11, 19],\n",
       "       [34,  2,  0, ..., 20, 41,  3],\n",
       "       ...,\n",
       "       [29, 17, 45, ...,  5,  2,  2],\n",
       "       [ 8, 34, 44, ...,  3,  0,  0],\n",
       "       [ 6, 23, 42, ..., 20, 14,  1]], dtype=uint8)"
      ]
     },
     "execution_count": 6,
     "metadata": {},
     "output_type": "execute_result"
    }
   ],
   "source": [
    "sample"
   ]
  },
  {
   "cell_type": "code",
   "execution_count": null,
   "id": "f41bf243-f33a-4347-b099-50cd00820647",
   "metadata": {},
   "outputs": [],
   "source": [
    "import hnswlib\n",
    "num_elements = feat.shape[0]\n",
    "ids = np.arange(num_elements)\n",
    "p = hnswlib.Index(space = 'l2', dim = query.shape[1])\n",
    "p.init_index(max_elements = num_elements, ef_construction = 200, M = 16)\n",
    "p.add_items(feat, ids)"
   ]
  },
  {
   "cell_type": "code",
   "execution_count": null,
   "id": "7e524bd5-1a6d-4a19-afb0-e7af69ae6f3d",
   "metadata": {},
   "outputs": [],
   "source": [
    "pred_labels, pred_distances = p.knn_query(query, k = 100)"
   ]
  },
  {
   "cell_type": "code",
   "execution_count": null,
   "id": "b655d760-7840-44bc-9c76-06814dc381a2",
   "metadata": {},
   "outputs": [],
   "source": [
    "pred_labels, "
   ]
  },
  {
   "cell_type": "code",
   "execution_count": null,
   "id": "8d11b422-be9e-4adb-98c3-77d4b9c6c452",
   "metadata": {},
   "outputs": [],
   "source": []
  }
 ],
 "metadata": {
  "kernelspec": {
   "display_name": "Python 3 (ipykernel)",
   "language": "python",
   "name": "python3"
  },
  "language_info": {
   "codemirror_mode": {
    "name": "ipython",
    "version": 3
   },
   "file_extension": ".py",
   "mimetype": "text/x-python",
   "name": "python",
   "nbconvert_exporter": "python",
   "pygments_lexer": "ipython3",
   "version": "3.10.13"
  }
 },
 "nbformat": 4,
 "nbformat_minor": 5
}
